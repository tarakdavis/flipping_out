{
 "cells": [
  {
   "cell_type": "code",
   "execution_count": 25,
   "metadata": {
    "collapsed": true
   },
   "outputs": [],
   "source": [
    "import statistics as st\n",
    "import matplotlib.pyplot as plt\n",
    "import random\n",
    "import seaborn as sns\n",
    "%matplotlib inline"
   ]
  },
  {
   "cell_type": "markdown",
   "metadata": {},
   "source": [
    "# Function to flip coin"
   ]
  },
  {
   "cell_type": "code",
   "execution_count": 14,
   "metadata": {
    "collapsed": false
   },
   "outputs": [
    {
     "data": {
      "text/plain": [
       "'heads'"
      ]
     },
     "execution_count": 14,
     "metadata": {},
     "output_type": "execute_result"
    }
   ],
   "source": [
    "coin = ['heads', 'tails']\n",
    "\n",
    "def flip_coin():\n",
    "    return random.choice(coin)\n",
    "\n",
    "flip_coin()"
   ]
  },
  {
   "cell_type": "code",
   "execution_count": 35,
   "metadata": {
    "collapsed": false,
    "scrolled": true
   },
   "outputs": [
    {
     "ename": "SyntaxError",
     "evalue": "invalid syntax (<ipython-input-35-577a65e9d27c>, line 12)",
     "output_type": "error",
     "traceback": [
      "\u001b[0;36m  File \u001b[0;32m\"<ipython-input-35-577a65e9d27c>\"\u001b[0;36m, line \u001b[0;32m12\u001b[0m\n\u001b[0;31m    global data = []\u001b[0m\n\u001b[0m                ^\u001b[0m\n\u001b[0;31mSyntaxError\u001b[0m\u001b[0;31m:\u001b[0m invalid syntax\n"
     ]
    }
   ],
   "source": [
    "n = 16\n",
    "coin = ['heads', 'tails']\n",
    "heads_count = 0\n",
    "tails_count = 0\n",
    "total_flips = 0\n",
    "data = []\n",
    "\n",
    "def multi_flips():\n",
    "    global heads_count\n",
    "    global tails_count\n",
    "    global total_flips\n",
    "    global data = []\n",
    "    for i in range(2**n):\n",
    "        flip = flip_coin()\n",
    "        total_flips += 1\n",
    "        if flip == 'heads':\n",
    "            heads_count += 1\n",
    "        else:\n",
    "            tails_count += 1\n",
    "        for x in range(n):\n",
    "            if total_flips == 2**x:\n",
    "                data.append((heads_count, tails_count))\n",
    "    return data\n",
    "\n",
    "multi_flips()\n",
    "\n",
    "for x in data: \n",
    "    plt.plot(x)\n",
    "    #plt.plot(x, s)\n",
    "\n",
    "    plt.show()\n",
    "\n",
    "    "
   ]
  },
  {
   "cell_type": "markdown",
   "metadata": {
    "collapsed": true
   },
   "source": [
    "# Line plot\n",
    "Line plot of the difference between heads and tails at each recorded point, and another with the ratio of heads to tails at each recorded point."
   ]
  },
  {
   "cell_type": "code",
   "execution_count": null,
   "metadata": {
    "collapsed": true
   },
   "outputs": [],
   "source": []
  }
 ],
 "metadata": {
  "kernelspec": {
   "display_name": "Python 3",
   "language": "python",
   "name": "python3"
  },
  "language_info": {
   "codemirror_mode": {
    "name": "ipython",
    "version": 3
   },
   "file_extension": ".py",
   "mimetype": "text/x-python",
   "name": "python",
   "nbconvert_exporter": "python",
   "pygments_lexer": "ipython3",
   "version": "3.5.2"
  }
 },
 "nbformat": 4,
 "nbformat_minor": 0
}
