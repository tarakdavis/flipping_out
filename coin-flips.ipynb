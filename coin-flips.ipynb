{
 "cells": [
  {
   "cell_type": "code",
   "execution_count": 25,
   "metadata": {
    "collapsed": true
   },
   "outputs": [],
   "source": [
    "import statistics as st\n",
    "import matplotlib.pyplot as plt\n",
    "import random\n",
    "import seaborn as sns\n",
    "%matplotlib inline"
   ]
  },
  {
   "cell_type": "markdown",
   "metadata": {},
   "source": [
    "# Function to flip coin"
   ]
  },
  {
   "cell_type": "code",
   "execution_count": 14,
   "metadata": {
    "collapsed": false
   },
   "outputs": [
    {
     "data": {
      "text/plain": [
       "'heads'"
      ]
     },
     "execution_count": 14,
     "metadata": {},
     "output_type": "execute_result"
    }
   ],
   "source": [
    "coin = ['heads', 'tails']\n",
    "\n",
    "def flip_coin():\n",
    "    return random.choice(coin)\n",
    "\n",
    "flip_coin()"
   ]
  },
  {
   "cell_type": "code",
   "execution_count": 41,
   "metadata": {
    "collapsed": false,
    "scrolled": true
   },
   "outputs": [
    {
     "data": {
      "text/plain": [
       "[(1, 0),\n",
       " (1, 1),\n",
       " (1, 3),\n",
       " (2, 6),\n",
       " (5, 11),\n",
       " (11, 21),\n",
       " (30, 34),\n",
       " (67, 61),\n",
       " (127, 129),\n",
       " (260, 252),\n",
       " (508, 516),\n",
       " (1033, 1015),\n",
       " (2068, 2028),\n",
       " (4117, 4075),\n",
       " (8181, 8203),\n",
       " (16350, 16418),\n",
       " (32925, 32611)]"
      ]
     },
     "execution_count": 41,
     "metadata": {},
     "output_type": "execute_result"
    }
   ],
   "source": [
    "n = 17\n",
    "coin = ['heads', 'tails']\n",
    "heads_count = 0\n",
    "tails_count = 0\n",
    "total_flips = 0\n",
    "data = []\n",
    "\n",
    "def multi_flips():\n",
    "    global heads_count\n",
    "    global tails_count\n",
    "    global total_flips\n",
    "    global data\n",
    "    for i in range(2**n):\n",
    "        flip = flip_coin()\n",
    "        total_flips += 1\n",
    "        if flip == 'heads':\n",
    "            heads_count += 1\n",
    "        else:\n",
    "            tails_count += 1\n",
    "        for x in range(n):\n",
    "            if total_flips == 2**x:\n",
    "                data.append((heads_count, tails_count))\n",
    "    return data\n",
    "\n",
    "multi_flips()\n",
    "\n",
    "\n",
    "\n",
    "    "
   ]
  },
  {
   "cell_type": "markdown",
   "metadata": {
    "collapsed": true
   },
   "source": [
    "# Line plot\n",
    "Line plot of the difference between heads and tails at each recorded point, and another with the ratio of heads to tails at each recorded point."
   ]
  },
  {
   "cell_type": "code",
   "execution_count": 45,
   "metadata": {
    "collapsed": false
   },
   "outputs": [
    {
     "data": {
      "image/png": "[encoded data removed]",
      "text/plain": [
       "<matplotlib.figure.Figure at 0x11abe25f8>"
      ]
     },
     "metadata": {},
     "output_type": "display_data"
    }
   ],
   "source": [
    "differences = []\n",
    "for heads, tails in data:\n",
    "    differences.append(heads - tails)\n",
    "plt.plot(differences)\n",
    "plt.show()"
   ]
  },
  {
   "cell_type": "code",
   "execution_count": null,
   "metadata": {
    "collapsed": true
   },
   "outputs": [],
   "source": []
  }
 ],
 "metadata": {
  "kernelspec": {
   "display_name": "Python 3",
   "language": "python",
   "name": "python3"
  },
  "language_info": {
   "codemirror_mode": {
    "name": "ipython",
    "version": 3
   },
   "file_extension": ".py",
   "mimetype": "text/x-python",
   "name": "python",
   "nbconvert_exporter": "python",
   "pygments_lexer": "ipython3",
   "version": "3.5.2"
  }
 },
 "nbformat": 4,
 "nbformat_minor": 0
}
