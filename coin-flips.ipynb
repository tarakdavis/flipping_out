{
 "cells": [
  {
   "cell_type": "code",
   "execution_count": 4,
   "metadata": {
    "collapsed": true
   },
   "outputs": [],
   "source": [
    "import statistics as st\n",
    "import matplotlib.pyplot as plt\n",
    "import random\n",
    "import seaborn as sns\n",
    "%matplotlib inline"
   ]
  },
  {
   "cell_type": "markdown",
   "metadata": {},
   "source": [
    "# Function to flip coin\n",
    "Simple coin flipping function and a function to run a simulation of flipping a coin n number of times, default 216, recording how many heads and tails it has at different intervals. The intervals are exponential, so record at 20, 21, 22, and so on until you reach n. "
   ]
  },
  {
   "cell_type": "code",
   "execution_count": 5,
   "metadata": {
    "collapsed": false
   },
   "outputs": [
    {
     "data": {
      "text/plain": [
       "'heads'"
      ]
     },
     "execution_count": 5,
     "metadata": {},
     "output_type": "execute_result"
    }
   ],
   "source": [
    "coin = ['heads', 'tails']\n",
    "\n",
    "def flip_coin():\n",
    "    return random.choice(coin)\n",
    "\n",
    "flip_coin()"
   ]
  },
  {
   "cell_type": "code",
   "execution_count": 6,
   "metadata": {
    "collapsed": false,
    "scrolled": true
   },
   "outputs": [
    {
     "data": {
      "text/plain": [
       "[(0, 1),\n",
       " (0, 2),\n",
       " (0, 4),\n",
       " (3, 5),\n",
       " (6, 10),\n",
       " (13, 19),\n",
       " (26, 38),\n",
       " (61, 67),\n",
       " (129, 127),\n",
       " (258, 254),\n",
       " (506, 518),\n",
       " (1045, 1003),\n",
       " (2072, 2024),\n",
       " (4172, 4020),\n",
       " (8245, 8139),\n",
       " (16519, 16249),\n",
       " (32962, 32574)]"
      ]
     },
     "execution_count": 6,
     "metadata": {},
     "output_type": "execute_result"
    }
   ],
   "source": [
    "n = 17\n",
    "coin = ['heads', 'tails']\n",
    "heads_count = 0\n",
    "tails_count = 0\n",
    "total_flips = 0\n",
    "data = []\n",
    "\n",
    "def multi_flips():\n",
    "    global heads_count\n",
    "    global tails_count\n",
    "    global total_flips\n",
    "    global data\n",
    "    for i in range(2**n):\n",
    "        flip = flip_coin()\n",
    "        total_flips += 1\n",
    "        if flip == 'heads':\n",
    "            heads_count += 1\n",
    "        else:\n",
    "            tails_count += 1\n",
    "        for x in range(n):\n",
    "            if total_flips == 2**x:\n",
    "                data.append((heads_count, tails_count))\n",
    "    return data\n",
    "\n",
    "multi_flips()    "
   ]
  },
  {
   "cell_type": "markdown",
   "metadata": {
    "collapsed": true
   },
   "source": [
    "# Line plot\n",
    "Line plot of the difference between heads and tails at each recorded point, and another with the ratio of heads to tails at each recorded point."
   ]
  },
  {
   "cell_type": "code",
   "execution_count": 7,
   "metadata": {
    "collapsed": false
   },
   "outputs": [
    {
     "data": {
      "image/png": "[encoded data removed]",
      "text/plain": [
       "<matplotlib.figure.Figure at 0x117e8bdd8>"
      ]
     },
     "metadata": {},
     "output_type": "display_data"
    }
   ],
   "source": [
    "differences = []\n",
    "for heads, tails in data:\n",
    "    differences.append(heads - tails)\n",
    "plt.plot(differences)\n",
    "plt.show()"
   ]
  },
  {
   "cell_type": "code",
   "execution_count": 8,
   "metadata": {
    "collapsed": false
   },
   "outputs": [
    {
     "data": {
      "image/png": "[encoded data removed]",
      "text/plain": [
       "<matplotlib.figure.Figure at 0x117f1a080>"
      ]
     },
     "metadata": {},
     "output_type": "display_data"
    }
   ],
   "source": [
    "ratios = []\n",
    "for heads, tails in data:\n",
    "    try:\n",
    "        ratios.append(heads / tails)\n",
    "    except ZeroDivisionError:\n",
    "        ratios.append(0)\n",
    "plt.plot(ratios)\n",
    "plt.show()\n"
   ]
  },
  {
   "cell_type": "markdown",
   "metadata": {},
   "source": [
    "# Scatter plots\n",
    "Create these plots again, but as scatter plots with a logarithmic scale for the x-axis."
   ]
  },
  {
   "cell_type": "code",
   "execution_count": 9,
   "metadata": {
    "collapsed": false
   },
   "outputs": [
    {
     "data": {
      "image/png": "[encoded data removed]",
      "text/plain": [
       "<matplotlib.figure.Figure at 0x1180601d0>"
      ]
     },
     "metadata": {},
     "output_type": "display_data"
    }
   ],
   "source": [
    "x_values = []\n",
    "for num in range(len(differences)):\n",
    "    x_values.append(2**num)\n",
    "\n",
    "plt.scatter(x_values, differences)\n",
    "plt.xscale('log', basex = 2)\n",
    "plt.show()"
   ]
  },
  {
   "cell_type": "code",
   "execution_count": 10,
   "metadata": {
    "collapsed": false
   },
   "outputs": [
    {
     "data": {
      "image/png": "[encoded data removed]",
      "text/plain": [
       "<matplotlib.figure.Figure at 0x117ec34e0>"
      ]
     },
     "metadata": {},
     "output_type": "display_data"
    }
   ],
   "source": [
    "ratios = []\n",
    "for heads, tails in data:\n",
    "    try:\n",
    "        ratios.append(heads / tails)\n",
    "    except ZeroDivisionError:\n",
    "        ratios.append(0)\n",
    "        \n",
    "plt.scatter(x_values, ratios)\n",
    "plt.xscale('log', basex = 2)\n",
    "plt.show()"
   ]
  },
  {
   "cell_type": "markdown",
   "metadata": {},
   "source": [
    "# Mean and Standard Deviation\n",
    "Flip coins as before, but run 20 trials of 216 each.\n",
    "\n",
    "Scatter plot of the mean heads/tails ratio at each recorded point, and another scatter plot to plot the standard deviation of the heads/tails ratio at each recorded point, with a logarithmic scale for the x-axis in both. The same for the y-axis with the standard deviation."
   ]
  },
  {
   "cell_type": "code",
   "execution_count": 11,
   "metadata": {
    "collapsed": false
   },
   "outputs": [],
   "source": [
    "counter = 1\n",
    "\n",
    "flip_counts = {}\n",
    "while counter <= 20:\n",
    "    flip_counts[counter] = multi_flips()\n",
    "    counter += 1\n"
   ]
  },
  {
   "cell_type": "code",
   "execution_count": 20,
   "metadata": {
    "collapsed": false
   },
   "outputs": [
    {
     "data": {
      "text/plain": [
       "[0.0,\n",
       " 0.35,\n",
       " 1.7333333333333336,\n",
       " 1.86,\n",
       " 1.204741924741925,\n",
       " 1.0420213429501357,\n",
       " 0.948491577311491,\n",
       " 0.956571523122267,\n",
       " 1.0124365680488772,\n",
       " 1.02767895579944,\n",
       " 1.0109389780367624,\n",
       " 0.9970256972405128,\n",
       " 1.0032496465331406,\n",
       " 1.0035097757933769,\n",
       " 1.004475711151976,\n",
       " 1.0037057569943761,\n",
       " 1.0032994825119732]"
      ]
     },
     "execution_count": 20,
     "metadata": {},
     "output_type": "execute_result"
    }
   ],
   "source": [
    "n = 17\n",
    "coin = ['heads', 'tails']\n",
    "# heads_count = 0\n",
    "# tails_count = 0\n",
    "# total_flips = 0\n",
    "# data = []\n",
    "flip_counts = {}\n",
    "counter = 1\n",
    "\n",
    "while counter <=20:\n",
    "    heads_count = 0\n",
    "    tails_count = 0\n",
    "    total_flips = 0\n",
    "    data = []\n",
    "    for i in range(2**n):\n",
    "        flip = flip_coin()\n",
    "        total_flips += 1\n",
    "        if flip == 'heads':\n",
    "            heads_count += 1\n",
    "        else:\n",
    "            tails_count += 1\n",
    "        for x in range(n):\n",
    "            if total_flips == 2**x:\n",
    "                try:\n",
    "                    ratio = heads_count / tails_count\n",
    "                except ZeroDivisionError:\n",
    "                    ratio = 0\n",
    "                flip_counts.setdefault(x, []).append(ratio)\n",
    "    counter += 1\n",
    "\n",
    "list_of_means = []\n",
    "for key in flip_counts:\n",
    "    list_of_means.append(sum(flip_counts[key]) / 20)\n",
    "list_of_means\n"
   ]
  },
  {
   "cell_type": "code",
   "execution_count": 19,
   "metadata": {
    "collapsed": false
   },
   "outputs": [
    {
     "data": {
      "image/png": "[encoded data removed]",
      "text/plain": [
       "<matplotlib.figure.Figure at 0x117fbd828>"
      ]
     },
     "metadata": {},
     "output_type": "display_data"
    }
   ],
   "source": [
    "plt.scatter(x_values, list_of_means)\n",
    "plt.xscale('log', basex = 2)\n",
    "plt.show()"
   ]
  },
  {
   "cell_type": "code",
   "execution_count": null,
   "metadata": {
    "collapsed": true
   },
   "outputs": [],
   "source": [
    "def sample_stdev(list_of_meams):\n",
    "    return math.sqrt(sample_variance())\n",
    "\n",
    "sample_stdev(\n",
    "x_values = []\n",
    "for num in range(len(list_of_means)):\n",
    "    x_values.append(2**num)\n",
    "\n",
    "plt.scatter(x_values, list_of_means)\n",
    "plt.xscale('log', basex = 2)\n",
    "plt.show()\n"
   ]
  }
 ],
 "metadata": {
  "kernelspec": {
   "display_name": "Python 3",
   "language": "python",
   "name": "python3"
  },
  "language_info": {
   "codemirror_mode": {
    "name": "ipython",
    "version": 3
   },
   "file_extension": ".py",
   "mimetype": "text/x-python",
   "name": "python",
   "nbconvert_exporter": "python",
   "pygments_lexer": "ipython3",
   "version": "3.5.2"
  }
 },
 "nbformat": 4,
 "nbformat_minor": 0
}
