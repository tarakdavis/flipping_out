{
 "cells": [
  {
   "cell_type": "code",
   "execution_count": 17,
   "metadata": {
    "collapsed": true
   },
   "outputs": [],
   "source": [
    "import statistics as st\n",
    "import matplotlib.pyplot as plt\n",
    "import random\n",
    "%matplotlib inline"
   ]
  },
  {
   "cell_type": "markdown",
   "metadata": {},
   "source": [
    "# Function to flip coin"
   ]
  },
  {
   "cell_type": "code",
   "execution_count": 14,
   "metadata": {
    "collapsed": false
   },
   "outputs": [
    {
     "data": {
      "text/plain": [
       "'heads'"
      ]
     },
     "execution_count": 14,
     "metadata": {},
     "output_type": "execute_result"
    }
   ],
   "source": [
    "coin = ['heads', 'tails']\n",
    "\n",
    "def flip_coin():\n",
    "    return random.choice(coin)\n",
    "\n",
    "flip_coin()"
   ]
  },
  {
   "cell_type": "code",
   "execution_count": 24,
   "metadata": {
    "collapsed": false
   },
   "outputs": [
    {
     "data": {
      "text/plain": [
       "[(0, 1),\n",
       " (1, 1),\n",
       " (2, 2),\n",
       " (4, 4),\n",
       " (9, 7),\n",
       " (17, 15),\n",
       " (27, 37),\n",
       " (54, 74),\n",
       " (116, 140),\n",
       " (253, 259),\n",
       " (494, 530),\n",
       " (976, 1072),\n",
       " (1985, 2111),\n",
       " (4101, 4091),\n",
       " (8266, 8118),\n",
       " (16425, 16343)]"
      ]
     },
     "execution_count": 24,
     "metadata": {},
     "output_type": "execute_result"
    }
   ],
   "source": [
    "n = 16\n",
    "coin = ['heads', 'tails']\n",
    "\n",
    "def multi_flips():\n",
    "    heads_count = 0\n",
    "    tails_count = 0\n",
    "    total_flips = 0\n",
    "    data = []\n",
    "    for i in range(2**n):\n",
    "        flip = flip_coin()\n",
    "        total_flips += 1\n",
    "        if flip == 'heads':\n",
    "            heads_count += 1\n",
    "        else:\n",
    "            tails_count += 1\n",
    "        for x in range(n):\n",
    "            if total_flips == 2**x:\n",
    "                data.append((heads_count, tails_count))\n",
    "    return data\n",
    "\n",
    "multi_flips()\n",
    "\n",
    "    "
   ]
  },
  {
   "cell_type": "code",
   "execution_count": null,
   "metadata": {
    "collapsed": true
   },
   "outputs": [],
   "source": []
  }
 ],
 "metadata": {
  "kernelspec": {
   "display_name": "Python 3",
   "language": "python",
   "name": "python3"
  },
  "language_info": {
   "codemirror_mode": {
    "name": "ipython",
    "version": 3
   },
   "file_extension": ".py",
   "mimetype": "text/x-python",
   "name": "python",
   "nbconvert_exporter": "python",
   "pygments_lexer": "ipython3",
   "version": "3.5.2"
  }
 },
 "nbformat": 4,
 "nbformat_minor": 0
}
